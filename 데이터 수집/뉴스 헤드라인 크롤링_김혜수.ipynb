{
 "cells": [
  {
   "cell_type": "markdown",
   "metadata": {
    "id": "YfIWSw1MSBhT"
   },
   "source": [
    "# 패키지 import"
   ]
  },
  {
   "cell_type": "code",
   "execution_count": 1,
   "metadata": {
    "id": "wx6gtSMqSBBm"
   },
   "outputs": [],
   "source": [
    "import pandas as pd\n",
    "import matplotlib as mtp\n",
    "import numpy as np\n",
    "\n",
    "# 시각화 패키지\n",
    "import matplotlib.pyplot as plt\n",
    "import seaborn as sns\n",
    "\n",
    "from datetime import datetime, timedelta"
   ]
  },
  {
   "cell_type": "markdown",
   "metadata": {
    "id": "wpk_jULrRlEg"
   },
   "source": [
    "# 데이터 수집 - 뉴스 기사 크롤링"
   ]
  },
  {
   "cell_type": "code",
   "execution_count": 2,
   "metadata": {
    "colab": {
     "base_uri": "https://localhost:8080/"
    },
    "id": "OnKueyH2oIn5",
    "outputId": "84b610ff-6ca3-4b53-a9e8-5da1becf03f3"
   },
   "outputs": [],
   "source": [
    "# selenium 설치를 위한 작업\n",
    "from selenium import webdriver\n",
    "from selenium.webdriver.chrome.service import Service\n",
    "from webdriver_manager.chrome import ChromeDriverManager\n",
    "\n",
    "options = webdriver.ChromeOptions()\n",
    "options.add_argument('--headless')\n",
    "options.add_argument('--no-sandbox')\n",
    "options.add_argument('--disable-dev-shm-usage')\n",
    "\n",
    "# ChromeDriver 자동 설치 및 실행\n",
    "driver = webdriver.Chrome(service=Service(ChromeDriverManager().install()), options=options)"
   ]
  },
  {
   "cell_type": "code",
   "execution_count": 3,
   "metadata": {
    "id": "eOfY_AidPdPp"
   },
   "outputs": [],
   "source": [
    "# 데이터 크롤링을 위한 라이브러리 설치\n",
    "import time\n",
    "from selenium import webdriver\n",
    "from selenium.webdriver.common.by import By\n",
    "from selenium.webdriver.chrome.service import Service\n",
    "\n",
    "webdriver_service = Service('/usr/bin/chromedriver')\n",
    "\n",
    "options = webdriver.ChromeOptions()\n",
    "options.add_argument('--headless')\n",
    "options.add_argument('--no-sandbox')\n",
    "options.add_argument('--disable-dev-shm-usage')\n",
    "\n",
    "# ChromeDriver 자동 설치 및 실행\n",
    "driver = webdriver.Chrome(service=Service(ChromeDriverManager().install()), options=options)\n",
    "\n",
    "import requests as req\n",
    "from bs4 import BeautifulSoup as bs\n",
    "from datetime import datetime, timedelta"
   ]
  },
  {
   "cell_type": "code",
   "execution_count": 8,
   "metadata": {},
   "outputs": [
    {
     "name": "stderr",
     "output_type": "stream",
     "text": [
      "진행 상황: 100%|█████████████████████████████████████████████████████████████████████| 361/361 [16:23<00:00,  2.72s/it]\n"
     ]
    },
    {
     "name": "stdout",
     "output_type": "stream",
     "text": [
      "작업 완료 및 파일 저장 완료\n"
     ]
    }
   ],
   "source": [
    "from datetime import datetime, timedelta\n",
    "from tqdm import tqdm\n",
    "import time\n",
    "from selenium import webdriver\n",
    "from selenium.webdriver.common.by import By\n",
    "from selenium.webdriver.chrome.service import Service\n",
    "from webdriver_manager.chrome import ChromeDriverManager\n",
    "import pandas as pd\n",
    "\n",
    "# WebDriver 설정\n",
    "options = webdriver.ChromeOptions()\n",
    "options.add_argument('--headless')\n",
    "options.add_argument('--no-sandbox')\n",
    "options.add_argument('--disable-dev-shm-usage')\n",
    "\n",
    "try:\n",
    "    # ChromeDriver 자동 설치 및 실행\n",
    "    driver = webdriver.Chrome(service=Service(ChromeDriverManager().install()), options=options)\n",
    "except Exception as e:\n",
    "    print(f\"드라이버 오류 발생: {e}\")\n",
    "    exit()\n",
    "\n",
    "# yg 엔터테이먼트 키워드를 포함하는 기사 검색 URL\n",
    "url = 'https://search.naver.com/search.naver?sm=tab_hty.top&where=news&ssc=tab.news.all&query=%EC%9E%88%EC%A7%80&oquery=2PM&tqi=i20LddqVOsosshZrg20ssssss7s-131928&pd=3&photo=0&sort=0'\n",
    "\n",
    "title_lists = []\n",
    "\n",
    "start_date = datetime(2024, 1, 1)\n",
    "end_date = datetime(2024, 12, 26)\n",
    "\n",
    "# 전체 날짜 범위 계산 (일 단위 진행률 표시용)\n",
    "total_days = (end_date - start_date).days + 1\n",
    "\n",
    "# tqdm을 이용한 진행 상황 표시\n",
    "with tqdm(total=total_days, desc=\"진행 상황\") as pbar:\n",
    "    # 월 단위로 날짜 범위 생성\n",
    "    current_date = start_date\n",
    "    while current_date <= end_date:\n",
    "        # 해당 월의 시작과 끝 날짜 설정\n",
    "        month_start = current_date\n",
    "        month_end = (current_date.replace(day=1) + timedelta(days=31)).replace(day=1) - timedelta(days=1)\n",
    "        if month_end > end_date:\n",
    "            month_end = end_date\n",
    "\n",
    "        # 월 단위로 일자 생성하여 반복문 수행\n",
    "        for single_date in (month_start + timedelta(days=x) for x in range((month_end - month_start).days + 1)):\n",
    "            try:\n",
    "                # 검색 URL 생성\n",
    "                formatted_date = single_date.strftime('%Y%m%d')\n",
    "                search_url = f\"{url}&ds={formatted_date}&de={formatted_date}\"\n",
    "\n",
    "                # 페이지 이동\n",
    "                driver.get(search_url)\n",
    "                time.sleep(2)  # 페이지 로딩 시간 대기\n",
    "\n",
    "                # 기사 제목 가져오기\n",
    "                titles = driver.find_elements(By.CSS_SELECTOR, 'a.news_tit')\n",
    "                title_list = [formatted_date]  # 날짜 추가\n",
    "                for title in titles:\n",
    "                    title_list.append(title.text)\n",
    "                title_lists.append(title_list)\n",
    "\n",
    "            except Exception as e:\n",
    "                print(f\"에러 발생 날짜: {formatted_date} - {e}\")\n",
    "\n",
    "            # tqdm 업데이트\n",
    "            pbar.update(1)\n",
    "\n",
    "        # 다음 월로 이동\n",
    "        current_date = (current_date.replace(day=1) + timedelta(days=31)).replace(day=1)\n",
    "\n",
    "# 웹 드라이버 종료\n",
    "driver.quit()\n",
    "\n",
    "# DataFrame 저장\n",
    "df = pd.DataFrame(title_lists)\n",
    "df.to_csv(\"news_title_jyp_있지.csv\", index=False, encoding='utf-8-sig')\n",
    "print(\"작업 완료 및 파일 저장 완료\")\n",
    "\n"
   ]
  },
  {
   "cell_type": "code",
   "execution_count": null,
   "metadata": {},
   "outputs": [],
   "source": []
  }
 ],
 "metadata": {
  "colab": {
   "provenance": []
  },
  "kernelspec": {
   "display_name": "Python 3 (ipykernel)",
   "language": "python",
   "name": "python3"
  },
  "language_info": {
   "codemirror_mode": {
    "name": "ipython",
    "version": 3
   },
   "file_extension": ".py",
   "mimetype": "text/x-python",
   "name": "python",
   "nbconvert_exporter": "python",
   "pygments_lexer": "ipython3",
   "version": "3.12.2"
  }
 },
 "nbformat": 4,
 "nbformat_minor": 4
}
